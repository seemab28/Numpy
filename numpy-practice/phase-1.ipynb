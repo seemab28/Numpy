{
 "cells": [
  {
   "cell_type": "markdown",
   "metadata": {},
   "source": [
    "##Numpy Array with Basics"
   ]
  },
  {
   "cell_type": "code",
   "execution_count": 2,
   "metadata": {},
   "outputs": [],
   "source": [
    "import numpy as np\n"
   ]
  },
  {
   "cell_type": "code",
   "execution_count": 4,
   "metadata": {},
   "outputs": [
    {
     "name": "stdout",
     "output_type": "stream",
     "text": [
      "1d aray: [1 2 3 4 5]\n",
      "2d aray: [[1 2 3]\n",
      " [4 5 6]]\n"
     ]
    }
   ],
   "source": [
    "#creating array from list\n",
    "\n",
    "arr_1d=np.array([1,2,3,4,5])\n",
    "print(\"1d aray:\",arr_1d)\n",
    "\n",
    "arr_2d=np.array([[1,2,3],[4,5,6]])\n",
    "print(\"2d aray:\",arr_2d)\n",
    "\n"
   ]
  },
  {
   "cell_type": "markdown",
   "metadata": {},
   "source": [
    "##list vs numpy array\n",
    "\n"
   ]
  },
  {
   "cell_type": "code",
   "execution_count": null,
   "metadata": {},
   "outputs": [
    {
     "name": "stdout",
     "output_type": "stream",
     "text": [
      "python list multiplication [1, 2, 3, 1, 2, 3]\n",
      "python list multiplication [2 4 6]\n"
     ]
    }
   ],
   "source": [
    "py_list=[1,2,3]\n",
    "print(\"python list multiplication\",py_list*2)\n",
    "\n",
    "np_array=np.array([1,2,3]) #element vise multiplication\n",
    "print(\"python list multiplication\",np_array*2)"
   ]
  },
  {
   "cell_type": "code",
   "execution_count": 11,
   "metadata": {},
   "outputs": [
    {
     "name": "stdout",
     "output_type": "stream",
     "text": [
      "List operation time:  0.23658180236816406\n",
      "NumPy operation time:  0.03341269493103027\n"
     ]
    }
   ],
   "source": [
    "import time\n",
    "\n",
    "# Python list operation\n",
    "start = time.time()\n",
    "py_list = [i * 2 for i in range(1000000)]\n",
    "print(\"List operation time: \", time.time() - start)\n",
    "\n",
    "# NumPy array operation\n",
    "start = time.time()\n",
    "np_array = np.arange(1000000) * 2\n",
    "print(\"NumPy operation time: \", time.time() - start)\n"
   ]
  },
  {
   "cell_type": "markdown",
   "metadata": {},
   "source": [
    "creating array from scratch"
   ]
  },
  {
   "cell_type": "code",
   "execution_count": 17,
   "metadata": {},
   "outputs": [
    {
     "name": "stdout",
     "output_type": "stream",
     "text": [
      "zeros array:\n",
      " [[0. 0. 0. 0.]\n",
      " [0. 0. 0. 0.]\n",
      " [0. 0. 0. 0.]]\n",
      "ones array:\n",
      " [[1. 1. 1.]\n",
      " [1. 1. 1.]]\n",
      "full array:\n",
      " [[7 7]\n",
      " [7 7]\n",
      " [7 7]]\n",
      "random array:\n",
      " [[0.08374674 0.98473292 0.57144579]\n",
      " [0.33101884 0.56561408 0.14023865]]\n",
      "sequence array:\n",
      " [ 0  2  4  6  8 10]\n"
     ]
    }
   ],
   "source": [
    "zeros=np.zeros((3,4))\n",
    "print(\"zeros array:\\n\",zeros)\n",
    "\n",
    "\n",
    "ones=np.ones((2,3))\n",
    "print(\"ones array:\\n\",ones)\n",
    "\n",
    "full=np.full((3,2),7)\n",
    "print(\"full array:\\n\",full)\n",
    "\n",
    "random=np.random.random((2,3))\n",
    "print(\"random array:\\n\",random)\n",
    "\n",
    "sequence=np.arange(0,11,2)\n",
    "print(\"sequence array:\\n\",sequence)"
   ]
  },
  {
   "cell_type": "markdown",
   "metadata": {},
   "source": [
    "vector,matrix,tensor"
   ]
  },
  {
   "cell_type": "code",
   "execution_count": 18,
   "metadata": {},
   "outputs": [
    {
     "name": "stdout",
     "output_type": "stream",
     "text": [
      "Vector:  [1 2 3]\n",
      "Matrix:  [[1 2 3]\n",
      " [4 5 6]]\n",
      "Tensor:  [[[1 2]\n",
      "  [3 4]]\n",
      "\n",
      " [[5 6]\n",
      "  [7 8]]]\n"
     ]
    }
   ],
   "source": [
    "vector = np.array([1, 2, 3])\n",
    "print(\"Vector: \", vector)\n",
    "\n",
    "matrix = np.array([[1, 2, 3],\n",
    "                   [4, 5, 6]])\n",
    "print(\"Matrix: \", matrix)\n",
    "\n",
    "\n",
    "tensor = np.array([[[1, 2], [3, 4]],\n",
    "                   [[5, 6], [7, 8]]])\n",
    "print(\"Tensor: \", tensor)\n"
   ]
  },
  {
   "cell_type": "markdown",
   "metadata": {},
   "source": [
    "array properties"
   ]
  },
  {
   "cell_type": "code",
   "execution_count": 19,
   "metadata": {},
   "outputs": [
    {
     "name": "stdout",
     "output_type": "stream",
     "text": [
      "size 6\n",
      "dimension 2\n",
      "shape (2, 3)\n",
      "Dtype int64\n"
     ]
    }
   ],
   "source": [
    "arr=np.array([[1,2,3],\n",
    "             [4,5,6]])\n",
    "\n",
    "print(\"size\",arr.size)\n",
    "print(\"dimension\",arr.ndim)\n",
    "print(\"shape\",arr.shape)\n",
    "print(\"Dtype\",arr.dtype)"
   ]
  },
  {
   "cell_type": "markdown",
   "metadata": {},
   "source": [
    "Array reshaping"
   ]
  },
  {
   "cell_type": "code",
   "execution_count": 34,
   "metadata": {},
   "outputs": [
    {
     "name": "stdout",
     "output_type": "stream",
     "text": [
      "original array  [ 0  1  2  3  4  5  6  7  8  9 10 11]\n",
      "reshaped array  [[ 0  1  2  3]\n",
      " [ 4  5  6  7]\n",
      " [ 8  9 10 11]]\n",
      "flattened array  [ 0  1  2  3  4  5  6  7  8  9 10 11]\n",
      "raveled array  [ 0  1  2  3  4  5  6  7  8  9 10 11]\n",
      "transposed array  [[ 0  4  8]\n",
      " [ 1  5  9]\n",
      " [ 2  6 10]\n",
      " [ 3  7 11]]\n"
     ]
    }
   ],
   "source": [
    "arr=np.arange(12)\n",
    "print(\"original array \",arr)\n",
    "\n",
    "reshaped=arr.reshape([3,4])\n",
    "print(\"reshaped array \",reshaped)\n",
    "\n",
    "flattened=reshaped.flatten()\n",
    "print(\"flattened array \",flattened)\n",
    "\n",
    "#ravel (returns a view instead of copy)\n",
    "raveled=reshaped.ravel()\n",
    "print(\"raveled array \",raveled)\n",
    "\n",
    "#Transpose\n",
    "transpose=reshaped.T\n",
    "print(\"transposed array \",transpose)\n",
    "\n"
   ]
  },
  {
   "cell_type": "code",
   "execution_count": null,
   "metadata": {},
   "outputs": [],
   "source": []
  }
 ],
 "metadata": {
  "kernelspec": {
   "display_name": "Python 3",
   "language": "python",
   "name": "python3"
  },
  "language_info": {
   "codemirror_mode": {
    "name": "ipython",
    "version": 3
   },
   "file_extension": ".py",
   "mimetype": "text/x-python",
   "name": "python",
   "nbconvert_exporter": "python",
   "pygments_lexer": "ipython3",
   "version": "3.11.9"
  }
 },
 "nbformat": 4,
 "nbformat_minor": 2
}
